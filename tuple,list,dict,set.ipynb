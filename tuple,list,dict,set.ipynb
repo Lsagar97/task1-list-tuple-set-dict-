{
 "cells": [
  {
   "cell_type": "code",
   "execution_count": 1,
   "id": "0f485ca8",
   "metadata": {},
   "outputs": [],
   "source": [
    "l=[1,2,3,4,5,'liki',46.47,False]"
   ]
  },
  {
   "cell_type": "code",
   "execution_count": 2,
   "id": "bd9b6a29",
   "metadata": {},
   "outputs": [
    {
     "data": {
      "text/plain": [
       "[1, 3, 5, 46.47]"
      ]
     },
     "execution_count": 2,
     "metadata": {},
     "output_type": "execute_result"
    }
   ],
   "source": [
    "l[0:100:2]"
   ]
  },
  {
   "cell_type": "code",
   "execution_count": 3,
   "id": "476af5fb",
   "metadata": {},
   "outputs": [
    {
     "data": {
      "text/plain": [
       "False"
      ]
     },
     "execution_count": 3,
     "metadata": {},
     "output_type": "execute_result"
    }
   ],
   "source": [
    "l.pop()"
   ]
  },
  {
   "cell_type": "code",
   "execution_count": 4,
   "id": "738bed04",
   "metadata": {},
   "outputs": [
    {
     "data": {
      "text/plain": [
       "1"
      ]
     },
     "execution_count": 4,
     "metadata": {},
     "output_type": "execute_result"
    }
   ],
   "source": [
    "l.pop(0)"
   ]
  },
  {
   "cell_type": "code",
   "execution_count": 5,
   "id": "492ba745",
   "metadata": {},
   "outputs": [
    {
     "data": {
      "text/plain": [
       "[2, 3, 4, 5, 'liki', 46.47]"
      ]
     },
     "execution_count": 5,
     "metadata": {},
     "output_type": "execute_result"
    }
   ],
   "source": [
    "l"
   ]
  },
  {
   "cell_type": "code",
   "execution_count": 6,
   "id": "1b30e327",
   "metadata": {},
   "outputs": [],
   "source": [
    "l.reverse()"
   ]
  },
  {
   "cell_type": "code",
   "execution_count": 7,
   "id": "cb6193c2",
   "metadata": {},
   "outputs": [
    {
     "data": {
      "text/plain": [
       "[46.47, 'liki', 5, 4, 3, 2]"
      ]
     },
     "execution_count": 7,
     "metadata": {},
     "output_type": "execute_result"
    }
   ],
   "source": [
    "l"
   ]
  },
  {
   "cell_type": "code",
   "execution_count": 8,
   "id": "02fc0bf6",
   "metadata": {},
   "outputs": [
    {
     "data": {
      "text/plain": [
       "[2, 3, 4, 5, 'liki', 46.47]"
      ]
     },
     "execution_count": 8,
     "metadata": {},
     "output_type": "execute_result"
    }
   ],
   "source": [
    "l[::-1]"
   ]
  },
  {
   "cell_type": "code",
   "execution_count": 9,
   "id": "cfdb3265",
   "metadata": {},
   "outputs": [
    {
     "data": {
      "text/plain": [
       "[46.47, 'liki', 5, 4, 3, 2]"
      ]
     },
     "execution_count": 9,
     "metadata": {},
     "output_type": "execute_result"
    }
   ],
   "source": [
    "l"
   ]
  },
  {
   "cell_type": "code",
   "execution_count": 10,
   "id": "970ecdca",
   "metadata": {},
   "outputs": [],
   "source": [
    "l.reverse()"
   ]
  },
  {
   "cell_type": "code",
   "execution_count": 11,
   "id": "be8a306b",
   "metadata": {},
   "outputs": [
    {
     "data": {
      "text/plain": [
       "[2, 3, 4, 5, 'liki', 46.47]"
      ]
     },
     "execution_count": 11,
     "metadata": {},
     "output_type": "execute_result"
    }
   ],
   "source": [
    "l"
   ]
  },
  {
   "cell_type": "code",
   "execution_count": null,
   "id": "e164f05c",
   "metadata": {},
   "outputs": [],
   "source": []
  },
  {
   "cell_type": "code",
   "execution_count": null,
   "id": "a3c246d2",
   "metadata": {},
   "outputs": [],
   "source": [
    "l1=[1,2.3,4,5]"
   ]
  },
  {
   "cell_type": "code",
   "execution_count": null,
   "id": "b4043847",
   "metadata": {},
   "outputs": [],
   "source": [
    "l1.sort()"
   ]
  },
  {
   "cell_type": "code",
   "execution_count": null,
   "id": "0184a386",
   "metadata": {},
   "outputs": [],
   "source": [
    "l1"
   ]
  },
  {
   "cell_type": "code",
   "execution_count": null,
   "id": "18d7abdb",
   "metadata": {},
   "outputs": [],
   "source": [
    "l2=[55,6,5,6,95,55,6,5552]"
   ]
  },
  {
   "cell_type": "code",
   "execution_count": null,
   "id": "46aeda77",
   "metadata": {},
   "outputs": [],
   "source": [
    "l2.sort()"
   ]
  },
  {
   "cell_type": "code",
   "execution_count": null,
   "id": "a5d0edbe",
   "metadata": {},
   "outputs": [],
   "source": [
    "l2"
   ]
  },
  {
   "cell_type": "code",
   "execution_count": null,
   "id": "7017acfb",
   "metadata": {},
   "outputs": [],
   "source": [
    "l2.sort(reverse=True)"
   ]
  },
  {
   "cell_type": "code",
   "execution_count": null,
   "id": "1362528f",
   "metadata": {},
   "outputs": [],
   "source": [
    "l2"
   ]
  },
  {
   "cell_type": "code",
   "execution_count": 1,
   "id": "6999e189",
   "metadata": {},
   "outputs": [],
   "source": [
    "l1=[1,2,3,4]\n",
    "l2=[6,7,8]\n",
    "l3=[3,2,3]\n"
   ]
  },
  {
   "cell_type": "code",
   "execution_count": 2,
   "id": "9b663ad0",
   "metadata": {},
   "outputs": [],
   "source": [
    "l4=[l1,l2,l3]"
   ]
  },
  {
   "cell_type": "markdown",
   "id": "0fc275b0",
   "metadata": {},
   "source": [
    "#### "
   ]
  },
  {
   "cell_type": "code",
   "execution_count": 3,
   "id": "e0d5ed3a",
   "metadata": {},
   "outputs": [
    {
     "data": {
      "text/plain": [
       "[[1, 2, 3, 4], [6, 7, 8], [3, 2, 3]]"
      ]
     },
     "execution_count": 3,
     "metadata": {},
     "output_type": "execute_result"
    }
   ],
   "source": [
    "l4"
   ]
  },
  {
   "cell_type": "code",
   "execution_count": 4,
   "id": "51128bfd",
   "metadata": {},
   "outputs": [
    {
     "data": {
      "text/plain": [
       "2"
      ]
     },
     "execution_count": 4,
     "metadata": {},
     "output_type": "execute_result"
    }
   ],
   "source": [
    "l4[2][1]"
   ]
  },
  {
   "cell_type": "code",
   "execution_count": 5,
   "id": "e81444ee",
   "metadata": {},
   "outputs": [
    {
     "data": {
      "text/plain": [
       "[[1, 2, 3, 4]]"
      ]
     },
     "execution_count": 5,
     "metadata": {},
     "output_type": "execute_result"
    }
   ],
   "source": [
    "l4[0:2][0:1]"
   ]
  },
  {
   "cell_type": "code",
   "execution_count": 6,
   "id": "52b9389d",
   "metadata": {},
   "outputs": [
    {
     "data": {
      "text/plain": [
       "0"
      ]
     },
     "execution_count": 6,
     "metadata": {},
     "output_type": "execute_result"
    }
   ],
   "source": [
    "l4.count(2)"
   ]
  },
  {
   "cell_type": "code",
   "execution_count": 7,
   "id": "2b9629f4",
   "metadata": {},
   "outputs": [
    {
     "ename": "NameError",
     "evalue": "name 'l' is not defined",
     "output_type": "error",
     "traceback": [
      "\u001b[1;31m---------------------------------------------------------------------------\u001b[0m",
      "\u001b[1;31mNameError\u001b[0m                                 Traceback (most recent call last)",
      "Input \u001b[1;32mIn [7]\u001b[0m, in \u001b[0;36m<cell line: 1>\u001b[1;34m()\u001b[0m\n\u001b[1;32m----> 1\u001b[0m \u001b[43ml\u001b[49m\n",
      "\u001b[1;31mNameError\u001b[0m: name 'l' is not defined"
     ]
    }
   ],
   "source": [
    "l"
   ]
  },
  {
   "cell_type": "code",
   "execution_count": null,
   "id": "9ef84cad",
   "metadata": {},
   "outputs": [],
   "source": [
    "l.append('likith')"
   ]
  },
  {
   "cell_type": "code",
   "execution_count": 8,
   "id": "00eb2ddb",
   "metadata": {},
   "outputs": [
    {
     "ename": "NameError",
     "evalue": "name 'l' is not defined",
     "output_type": "error",
     "traceback": [
      "\u001b[1;31m---------------------------------------------------------------------------\u001b[0m",
      "\u001b[1;31mNameError\u001b[0m                                 Traceback (most recent call last)",
      "Input \u001b[1;32mIn [8]\u001b[0m, in \u001b[0;36m<cell line: 1>\u001b[1;34m()\u001b[0m\n\u001b[1;32m----> 1\u001b[0m \u001b[43ml\u001b[49m\n",
      "\u001b[1;31mNameError\u001b[0m: name 'l' is not defined"
     ]
    }
   ],
   "source": [
    "l"
   ]
  },
  {
   "cell_type": "code",
   "execution_count": 9,
   "id": "1b1ff884",
   "metadata": {},
   "outputs": [
    {
     "ename": "NameError",
     "evalue": "name 'l' is not defined",
     "output_type": "error",
     "traceback": [
      "\u001b[1;31m---------------------------------------------------------------------------\u001b[0m",
      "\u001b[1;31mNameError\u001b[0m                                 Traceback (most recent call last)",
      "Input \u001b[1;32mIn [9]\u001b[0m, in \u001b[0;36m<cell line: 1>\u001b[1;34m()\u001b[0m\n\u001b[1;32m----> 1\u001b[0m \u001b[43ml\u001b[49m\u001b[38;5;241m.\u001b[39mappend([\u001b[38;5;241m34\u001b[39m,\u001b[38;5;241m5\u001b[39m,\u001b[38;5;124m'\u001b[39m\u001b[38;5;124mjilu\u001b[39m\u001b[38;5;124m'\u001b[39m])\n",
      "\u001b[1;31mNameError\u001b[0m: name 'l' is not defined"
     ]
    }
   ],
   "source": [
    "l.append([34,5,'jilu'])"
   ]
  },
  {
   "cell_type": "code",
   "execution_count": 10,
   "id": "0f8e2cd4",
   "metadata": {},
   "outputs": [
    {
     "ename": "NameError",
     "evalue": "name 'l' is not defined",
     "output_type": "error",
     "traceback": [
      "\u001b[1;31m---------------------------------------------------------------------------\u001b[0m",
      "\u001b[1;31mNameError\u001b[0m                                 Traceback (most recent call last)",
      "Input \u001b[1;32mIn [10]\u001b[0m, in \u001b[0;36m<cell line: 1>\u001b[1;34m()\u001b[0m\n\u001b[1;32m----> 1\u001b[0m \u001b[43ml\u001b[49m\n",
      "\u001b[1;31mNameError\u001b[0m: name 'l' is not defined"
     ]
    }
   ],
   "source": [
    "l"
   ]
  },
  {
   "cell_type": "code",
   "execution_count": 11,
   "id": "34ac4a46",
   "metadata": {},
   "outputs": [
    {
     "ename": "NameError",
     "evalue": "name 'l' is not defined",
     "output_type": "error",
     "traceback": [
      "\u001b[1;31m---------------------------------------------------------------------------\u001b[0m",
      "\u001b[1;31mNameError\u001b[0m                                 Traceback (most recent call last)",
      "Input \u001b[1;32mIn [11]\u001b[0m, in \u001b[0;36m<cell line: 1>\u001b[1;34m()\u001b[0m\n\u001b[1;32m----> 1\u001b[0m \u001b[43ml\u001b[49m\u001b[38;5;241m.\u001b[39mextend(\u001b[38;5;124m'\u001b[39m\u001b[38;5;124mliki\u001b[39m\u001b[38;5;124m'\u001b[39m)\n",
      "\u001b[1;31mNameError\u001b[0m: name 'l' is not defined"
     ]
    }
   ],
   "source": [
    "l.extend('liki')"
   ]
  },
  {
   "cell_type": "code",
   "execution_count": 12,
   "id": "6ef652cd",
   "metadata": {},
   "outputs": [
    {
     "ename": "NameError",
     "evalue": "name 'l' is not defined",
     "output_type": "error",
     "traceback": [
      "\u001b[1;31m---------------------------------------------------------------------------\u001b[0m",
      "\u001b[1;31mNameError\u001b[0m                                 Traceback (most recent call last)",
      "Input \u001b[1;32mIn [12]\u001b[0m, in \u001b[0;36m<cell line: 1>\u001b[1;34m()\u001b[0m\n\u001b[1;32m----> 1\u001b[0m \u001b[43ml\u001b[49m\n",
      "\u001b[1;31mNameError\u001b[0m: name 'l' is not defined"
     ]
    }
   ],
   "source": [
    "l"
   ]
  },
  {
   "cell_type": "code",
   "execution_count": 13,
   "id": "6e5e651d",
   "metadata": {},
   "outputs": [],
   "source": [
    "\n",
    "l5=[1,34,56,67,56,]"
   ]
  },
  {
   "cell_type": "code",
   "execution_count": 14,
   "id": "fd834b33",
   "metadata": {},
   "outputs": [
    {
     "ename": "TypeError",
     "evalue": "'int' object is not iterable",
     "output_type": "error",
     "traceback": [
      "\u001b[1;31m---------------------------------------------------------------------------\u001b[0m",
      "\u001b[1;31mTypeError\u001b[0m                                 Traceback (most recent call last)",
      "Input \u001b[1;32mIn [14]\u001b[0m, in \u001b[0;36m<cell line: 1>\u001b[1;34m()\u001b[0m\n\u001b[1;32m----> 1\u001b[0m \u001b[43ml5\u001b[49m\u001b[38;5;241;43m.\u001b[39;49m\u001b[43mextend\u001b[49m\u001b[43m(\u001b[49m\u001b[38;5;241;43m45\u001b[39;49m\u001b[43m)\u001b[49m\n",
      "\u001b[1;31mTypeError\u001b[0m: 'int' object is not iterable"
     ]
    }
   ],
   "source": [
    "l5.extend(45)"
   ]
  },
  {
   "cell_type": "code",
   "execution_count": 15,
   "id": "73beca54",
   "metadata": {},
   "outputs": [],
   "source": [
    "l5.extend([35,65,78])"
   ]
  },
  {
   "cell_type": "code",
   "execution_count": 16,
   "id": "5a654ac6",
   "metadata": {},
   "outputs": [
    {
     "data": {
      "text/plain": [
       "[1, 34, 56, 67, 56, 35, 65, 78]"
      ]
     },
     "execution_count": 16,
     "metadata": {},
     "output_type": "execute_result"
    }
   ],
   "source": [
    "l5\n"
   ]
  },
  {
   "cell_type": "code",
   "execution_count": 17,
   "id": "7f041ce1",
   "metadata": {},
   "outputs": [],
   "source": [
    "l5.append(454)"
   ]
  },
  {
   "cell_type": "code",
   "execution_count": null,
   "id": "059e73d4",
   "metadata": {},
   "outputs": [],
   "source": [
    " l3"
   ]
  },
  {
   "cell_type": "code",
   "execution_count": null,
   "id": "d32ddbd6",
   "metadata": {},
   "outputs": [],
   "source": [
    "l5"
   ]
  },
  {
   "cell_type": "code",
   "execution_count": null,
   "id": "e846caf9",
   "metadata": {},
   "outputs": [],
   "source": [
    "l5.extend('liki')"
   ]
  },
  {
   "cell_type": "code",
   "execution_count": null,
   "id": "c6134017",
   "metadata": {},
   "outputs": [],
   "source": [
    "l5\n"
   ]
  },
  {
   "cell_type": "code",
   "execution_count": null,
   "id": "7f49b722",
   "metadata": {},
   "outputs": [],
   "source": [
    "l5.extend([5464])"
   ]
  },
  {
   "cell_type": "markdown",
   "id": "92e64a71",
   "metadata": {},
   "source": [
    "##### "
   ]
  },
  {
   "cell_type": "code",
   "execution_count": null,
   "id": "0883cd86",
   "metadata": {},
   "outputs": [],
   "source": [
    "l5"
   ]
  },
  {
   "cell_type": "code",
   "execution_count": null,
   "id": "c160f4cf",
   "metadata": {},
   "outputs": [],
   "source": [
    "l5.append('liki')"
   ]
  },
  {
   "cell_type": "code",
   "execution_count": null,
   "id": "0b4d2834",
   "metadata": {},
   "outputs": [],
   "source": [
    "l5"
   ]
  },
  {
   "cell_type": "code",
   "execution_count": null,
   "id": "6f97a554",
   "metadata": {},
   "outputs": [],
   "source": [
    "l5.index(1)"
   ]
  },
  {
   "cell_type": "code",
   "execution_count": null,
   "id": "d4763517",
   "metadata": {},
   "outputs": [],
   "source": [
    "l7=[1,2,3,4,5,6,7,8,9]"
   ]
  },
  {
   "cell_type": "code",
   "execution_count": null,
   "id": "e2db47ed",
   "metadata": {},
   "outputs": [],
   "source": [
    "l7.append(56)"
   ]
  },
  {
   "cell_type": "code",
   "execution_count": null,
   "id": "4e31a6b9",
   "metadata": {},
   "outputs": [],
   "source": [
    "l7"
   ]
  },
  {
   "cell_type": "code",
   "execution_count": null,
   "id": "c28fda1d",
   "metadata": {},
   "outputs": [],
   "source": [
    "l7.insert(2,[234,445,5])"
   ]
  },
  {
   "cell_type": "code",
   "execution_count": null,
   "id": "53e69bbf",
   "metadata": {},
   "outputs": [],
   "source": [
    "l7"
   ]
  },
  {
   "cell_type": "code",
   "execution_count": null,
   "id": "d243a0e5",
   "metadata": {},
   "outputs": [],
   "source": [
    "l7.insert(3,'liki')"
   ]
  },
  {
   "cell_type": "code",
   "execution_count": null,
   "id": "44d36844",
   "metadata": {},
   "outputs": [],
   "source": [
    "l7"
   ]
  },
  {
   "cell_type": "code",
   "execution_count": null,
   "id": "9d287899",
   "metadata": {},
   "outputs": [],
   "source": [
    "l7.pop(2)"
   ]
  },
  {
   "cell_type": "code",
   "execution_count": null,
   "id": "d7dd11e9",
   "metadata": {},
   "outputs": [],
   "source": [
    "l7"
   ]
  },
  {
   "cell_type": "code",
   "execution_count": null,
   "id": "50a36ed1",
   "metadata": {},
   "outputs": [],
   "source": [
    "l7.remove('liki')"
   ]
  },
  {
   "cell_type": "code",
   "execution_count": null,
   "id": "0f3f27a5",
   "metadata": {},
   "outputs": [],
   "source": []
  },
  {
   "cell_type": "code",
   "execution_count": null,
   "id": "4377c6cc",
   "metadata": {},
   "outputs": [],
   "source": [
    "l7"
   ]
  },
  {
   "cell_type": "code",
   "execution_count": null,
   "id": "ee062aa2",
   "metadata": {},
   "outputs": [],
   "source": [
    "l\n"
   ]
  },
  {
   "cell_type": "code",
   "execution_count": null,
   "id": "fc953b8a",
   "metadata": {},
   "outputs": [],
   "source": [
    "l7.extend('liki')"
   ]
  },
  {
   "cell_type": "code",
   "execution_count": null,
   "id": "8400f6a6",
   "metadata": {},
   "outputs": [],
   "source": [
    "l7"
   ]
  },
  {
   "cell_type": "code",
   "execution_count": null,
   "id": "d04d75de",
   "metadata": {},
   "outputs": [],
   "source": [
    "l7.remove('l')"
   ]
  },
  {
   "cell_type": "code",
   "execution_count": null,
   "id": "4d91c8b6",
   "metadata": {},
   "outputs": [],
   "source": [
    "l7"
   ]
  },
  {
   "cell_type": "code",
   "execution_count": null,
   "id": "2ea9abd2",
   "metadata": {},
   "outputs": [],
   "source": [
    "l8=[1,23,4,5]"
   ]
  },
  {
   "cell_type": "code",
   "execution_count": null,
   "id": "38b919f5",
   "metadata": {},
   "outputs": [],
   "source": [
    "l8[2]='liki'"
   ]
  },
  {
   "cell_type": "code",
   "execution_count": null,
   "id": "df5c267d",
   "metadata": {},
   "outputs": [],
   "source": [
    "l8"
   ]
  },
  {
   "cell_type": "code",
   "execution_count": null,
   "id": "4b816d7b",
   "metadata": {},
   "outputs": [],
   "source": [
    "s='likth'"
   ]
  },
  {
   "cell_type": "code",
   "execution_count": null,
   "id": "ebe5f98d",
   "metadata": {},
   "outputs": [],
   "source": [
    "s[2]='z'"
   ]
  },
  {
   "cell_type": "code",
   "execution_count": null,
   "id": "1a727aa0",
   "metadata": {},
   "outputs": [],
   "source": [
    "t=(4,5,6,7,'liki',45.56,True)"
   ]
  },
  {
   "cell_type": "code",
   "execution_count": null,
   "id": "ebab53f9",
   "metadata": {},
   "outputs": [],
   "source": [
    "type(t)"
   ]
  },
  {
   "cell_type": "code",
   "execution_count": null,
   "id": "71d1b474",
   "metadata": {},
   "outputs": [],
   "source": [
    "t[0]"
   ]
  },
  {
   "cell_type": "code",
   "execution_count": null,
   "id": "144c83de",
   "metadata": {},
   "outputs": [],
   "source": [
    "t[0:4]"
   ]
  },
  {
   "cell_type": "code",
   "execution_count": null,
   "id": "0e2bdb6e",
   "metadata": {},
   "outputs": [],
   "source": [
    "t[-1]"
   ]
  },
  {
   "cell_type": "code",
   "execution_count": null,
   "id": "d710a8cd",
   "metadata": {},
   "outputs": [],
   "source": [
    "t"
   ]
  },
  {
   "cell_type": "code",
   "execution_count": null,
   "id": "ca823af9",
   "metadata": {},
   "outputs": [],
   "source": [
    "t[0:6:2]"
   ]
  },
  {
   "cell_type": "code",
   "execution_count": null,
   "id": "9198c8bf",
   "metadata": {},
   "outputs": [],
   "source": [
    "t[0:4:-1]"
   ]
  },
  {
   "cell_type": "code",
   "execution_count": null,
   "id": "0f65a2eb",
   "metadata": {},
   "outputs": [],
   "source": [
    "l=[1,23,9,3,34]"
   ]
  },
  {
   "cell_type": "code",
   "execution_count": null,
   "id": "5cd56cba",
   "metadata": {},
   "outputs": [],
   "source": [
    "l[2]=['liki']"
   ]
  },
  {
   "cell_type": "code",
   "execution_count": null,
   "id": "009add18",
   "metadata": {},
   "outputs": [],
   "source": [
    "l"
   ]
  },
  {
   "cell_type": "code",
   "execution_count": null,
   "id": "da45c67c",
   "metadata": {},
   "outputs": [],
   "source": [
    "t[2]=\"liki\""
   ]
  },
  {
   "cell_type": "code",
   "execution_count": null,
   "id": "12e909fe",
   "metadata": {},
   "outputs": [],
   "source": [
    "t1=(3,4,5,6,7)"
   ]
  },
  {
   "cell_type": "code",
   "execution_count": null,
   "id": "31d5f961",
   "metadata": {},
   "outputs": [],
   "source": [
    "t+t1"
   ]
  },
  {
   "cell_type": "code",
   "execution_count": null,
   "id": "e9ba7eca",
   "metadata": {},
   "outputs": [],
   "source": [
    "t.count(7)"
   ]
  },
  {
   "cell_type": "code",
   "execution_count": null,
   "id": "d7d52fad",
   "metadata": {},
   "outputs": [],
   "source": [
    "t.count(3)"
   ]
  },
  {
   "cell_type": "code",
   "execution_count": null,
   "id": "8ba6116c",
   "metadata": {},
   "outputs": [],
   "source": [
    "t.index(0,3,4)"
   ]
  },
  {
   "cell_type": "code",
   "execution_count": null,
   "id": "44a2cce2",
   "metadata": {},
   "outputs": [],
   "source": [
    "t=t+t1"
   ]
  },
  {
   "cell_type": "code",
   "execution_count": null,
   "id": "85124d05",
   "metadata": {},
   "outputs": [],
   "source": [
    "t"
   ]
  },
  {
   "cell_type": "code",
   "execution_count": null,
   "id": "7c4a7396",
   "metadata": {},
   "outputs": [],
   "source": [
    "t2=list(t)"
   ]
  },
  {
   "cell_type": "code",
   "execution_count": null,
   "id": "64e730b9",
   "metadata": {},
   "outputs": [],
   "source": [
    "t2"
   ]
  },
  {
   "cell_type": "code",
   "execution_count": null,
   "id": "2964d7f6",
   "metadata": {},
   "outputs": [],
   "source": [
    "tuple(t2)"
   ]
  },
  {
   "cell_type": "code",
   "execution_count": null,
   "id": "4bc244b9",
   "metadata": {},
   "outputs": [],
   "source": [
    "t2"
   ]
  },
  {
   "cell_type": "code",
   "execution_count": null,
   "id": "ad131667",
   "metadata": {},
   "outputs": [],
   "source": [
    "t2=tuple(t2)"
   ]
  },
  {
   "cell_type": "code",
   "execution_count": null,
   "id": "f3b579d5",
   "metadata": {},
   "outputs": [],
   "source": [
    "t2"
   ]
  },
  {
   "cell_type": "code",
   "execution_count": null,
   "id": "ef10ca29",
   "metadata": {},
   "outputs": [],
   "source": [
    "str(t2)"
   ]
  },
  {
   "cell_type": "code",
   "execution_count": null,
   "id": "dc3d439c",
   "metadata": {},
   "outputs": [],
   "source": [
    "t2"
   ]
  },
  {
   "cell_type": "code",
   "execution_count": null,
   "id": "dbe9037f",
   "metadata": {},
   "outputs": [],
   "source": [
    "d={}"
   ]
  },
  {
   "cell_type": "code",
   "execution_count": null,
   "id": "ea8cd763",
   "metadata": {},
   "outputs": [],
   "source": [
    "d"
   ]
  },
  {
   "cell_type": "code",
   "execution_count": null,
   "id": "752163eb",
   "metadata": {},
   "outputs": [],
   "source": [
    "type(d)"
   ]
  },
  {
   "cell_type": "code",
   "execution_count": null,
   "id": "10c5e9c8",
   "metadata": {},
   "outputs": [],
   "source": [
    "d1={1}"
   ]
  },
  {
   "cell_type": "code",
   "execution_count": null,
   "id": "04e51067",
   "metadata": {},
   "outputs": [],
   "source": [
    "type(d1)"
   ]
  },
  {
   "cell_type": "code",
   "execution_count": null,
   "id": "a8797aac",
   "metadata": {},
   "outputs": [],
   "source": [
    "d2={'liki1'  : 'power', 123 : 'xyz' , 'name' : \"liki\"}"
   ]
  },
  {
   "cell_type": "code",
   "execution_count": null,
   "id": "0395f163",
   "metadata": {},
   "outputs": [],
   "source": [
    "d2"
   ]
  },
  {
   "cell_type": "code",
   "execution_count": null,
   "id": "1f69516d",
   "metadata": {},
   "outputs": [],
   "source": [
    "type(d2)"
   ]
  },
  {
   "cell_type": "code",
   "execution_count": null,
   "id": "30594cd2",
   "metadata": {},
   "outputs": [],
   "source": [
    "d2['liki1']"
   ]
  },
  {
   "cell_type": "code",
   "execution_count": null,
   "id": "55291b5d",
   "metadata": {},
   "outputs": [],
   "source": [
    "d2[123]"
   ]
  },
  {
   "cell_type": "code",
   "execution_count": null,
   "id": "316b2d61",
   "metadata": {},
   "outputs": [],
   "source": [
    "d3={'name' : 'liki','tech':['python','ml','dl','nlp','cv','bigdata']}"
   ]
  },
  {
   "cell_type": "code",
   "execution_count": null,
   "id": "a8786d9a",
   "metadata": {},
   "outputs": [],
   "source": [
    "d3"
   ]
  },
  {
   "cell_type": "code",
   "execution_count": null,
   "id": "08510e57",
   "metadata": {},
   "outputs": [],
   "source": [
    "\"python\" in d3['tech']"
   ]
  },
  {
   "cell_type": "code",
   "execution_count": null,
   "id": "24d15e45",
   "metadata": {},
   "outputs": [],
   "source": [
    "d4={'name':'likith','cont':5775,'name':'liki'}"
   ]
  },
  {
   "cell_type": "code",
   "execution_count": null,
   "id": "43ad27f5",
   "metadata": {},
   "outputs": [],
   "source": [
    "d4\n"
   ]
  },
  {
   "cell_type": "code",
   "execution_count": null,
   "id": "b23a5323",
   "metadata": {},
   "outputs": [],
   "source": [
    "d4['name1']='xyx'"
   ]
  },
  {
   "cell_type": "code",
   "execution_count": null,
   "id": "a136dd2c",
   "metadata": {},
   "outputs": [],
   "source": [
    "d4"
   ]
  },
  {
   "cell_type": "code",
   "execution_count": null,
   "id": "7488fe65",
   "metadata": {},
   "outputs": [],
   "source": [
    "d4['k2']=d2"
   ]
  },
  {
   "cell_type": "code",
   "execution_count": null,
   "id": "33e12e8e",
   "metadata": {},
   "outputs": [],
   "source": [
    "d4"
   ]
  },
  {
   "cell_type": "code",
   "execution_count": null,
   "id": "a1927d4f",
   "metadata": {},
   "outputs": [],
   "source": [
    "d4['k2']['name']"
   ]
  },
  {
   "cell_type": "code",
   "execution_count": null,
   "id": "5771bd42",
   "metadata": {},
   "outputs": [],
   "source": []
  },
  {
   "cell_type": "code",
   "execution_count": null,
   "id": "f90f0b88",
   "metadata": {},
   "outputs": [],
   "source": [
    "d5 = {_:\"liki\"}"
   ]
  },
  {
   "cell_type": "code",
   "execution_count": null,
   "id": "d5a25561",
   "metadata": {},
   "outputs": [],
   "source": [
    "d5[_]"
   ]
  },
  {
   "cell_type": "code",
   "execution_count": null,
   "id": "1acf19f5",
   "metadata": {},
   "outputs": [],
   "source": [
    "d6={(1,2,3,4):'likith'}"
   ]
  },
  {
   "cell_type": "code",
   "execution_count": null,
   "id": "51a93759",
   "metadata": {},
   "outputs": [],
   "source": [
    "d6[(1,2,3,4)]"
   ]
  },
  {
   "cell_type": "code",
   "execution_count": null,
   "id": "1da2bb8e",
   "metadata": {},
   "outputs": [],
   "source": [
    "d7={[1,2,3,4]:'likith'}"
   ]
  },
  {
   "cell_type": "code",
   "execution_count": null,
   "id": "d19d3c81",
   "metadata": {},
   "outputs": [],
   "source": [
    "d8={{1:3}:'liki'}"
   ]
  },
  {
   "cell_type": "code",
   "execution_count": null,
   "id": "f3e922bf",
   "metadata": {},
   "outputs": [],
   "source": [
    "d2"
   ]
  },
  {
   "cell_type": "code",
   "execution_count": null,
   "id": "a70ffe61",
   "metadata": {},
   "outputs": [],
   "source": [
    "d2"
   ]
  },
  {
   "cell_type": "code",
   "execution_count": null,
   "id": "9c1db270",
   "metadata": {},
   "outputs": [],
   "source": [
    "d2+d3"
   ]
  },
  {
   "cell_type": "code",
   "execution_count": null,
   "id": "67073868",
   "metadata": {},
   "outputs": [],
   "source": [
    "d2.keys()"
   ]
  },
  {
   "cell_type": "code",
   "execution_count": null,
   "id": "3afefda1",
   "metadata": {},
   "outputs": [],
   "source": [
    "d2.values()"
   ]
  },
  {
   "cell_type": "code",
   "execution_count": null,
   "id": "59f9212d",
   "metadata": {},
   "outputs": [],
   "source": [
    "d2.items()"
   ]
  },
  {
   "cell_type": "code",
   "execution_count": null,
   "id": "875ac227",
   "metadata": {},
   "outputs": [],
   "source": [
    "s={3,4,5,56,6,7,7,\n",
    "}"
   ]
  },
  {
   "cell_type": "code",
   "execution_count": null,
   "id": "898d2029",
   "metadata": {},
   "outputs": [],
   "source": [
    "type(s)"
   ]
  },
  {
   "cell_type": "code",
   "execution_count": null,
   "id": "60146e8e",
   "metadata": {},
   "outputs": [],
   "source": [
    "s1={1,2,34,5,6,7,89,0,0,0,9,10,9,9,}"
   ]
  },
  {
   "cell_type": "code",
   "execution_count": null,
   "id": "40afb3ac",
   "metadata": {},
   "outputs": [],
   "source": [
    "s1"
   ]
  },
  {
   "cell_type": "code",
   "execution_count": null,
   "id": "9b47e9dd",
   "metadata": {},
   "outputs": [],
   "source": [
    "s2 ={3245,2,3,494,49,424,24,42,24,9999,42,4,2}"
   ]
  },
  {
   "cell_type": "code",
   "execution_count": null,
   "id": "ee9329f2",
   "metadata": {},
   "outputs": [],
   "source": [
    "s2"
   ]
  },
  {
   "cell_type": "code",
   "execution_count": null,
   "id": "caf03f37",
   "metadata": {},
   "outputs": [],
   "source": [
    "s3={'liki',324,32,434,34,32,53,'b','78'}"
   ]
  },
  {
   "cell_type": "code",
   "execution_count": null,
   "id": "aef21af6",
   "metadata": {},
   "outputs": [],
   "source": [
    "s3"
   ]
  },
  {
   "cell_type": "code",
   "execution_count": null,
   "id": "de0ded65",
   "metadata": {},
   "outputs": [],
   "source": [
    "s3[0]"
   ]
  },
  {
   "cell_type": "code",
   "execution_count": null,
   "id": "5c5726e2",
   "metadata": {},
   "outputs": [],
   "source": [
    "s4=list(s3)"
   ]
  },
  {
   "cell_type": "code",
   "execution_count": null,
   "id": "06eb5b76",
   "metadata": {},
   "outputs": [],
   "source": [
    "s4"
   ]
  },
  {
   "cell_type": "code",
   "execution_count": null,
   "id": "4a0409eb",
   "metadata": {},
   "outputs": [],
   "source": [
    "set(s4)"
   ]
  },
  {
   "cell_type": "code",
   "execution_count": null,
   "id": "781d9945",
   "metadata": {},
   "outputs": [],
   "source": [
    "l=[2,2,2,2,2,2,2,2,4,5,5,5,55,5,5,5,5,90,66,5,5,]"
   ]
  },
  {
   "cell_type": "code",
   "execution_count": null,
   "id": "de90ef62",
   "metadata": {},
   "outputs": [],
   "source": [
    "l"
   ]
  },
  {
   "cell_type": "code",
   "execution_count": null,
   "id": "2e8684b8",
   "metadata": {},
   "outputs": [],
   "source": [
    "l=list(set(l))"
   ]
  },
  {
   "cell_type": "code",
   "execution_count": null,
   "id": "774867ce",
   "metadata": {},
   "outputs": [],
   "source": [
    "l"
   ]
  },
  {
   "cell_type": "code",
   "execution_count": null,
   "id": "c49d8ba0",
   "metadata": {},
   "outputs": [],
   "source": [
    "s2"
   ]
  },
  {
   "cell_type": "code",
   "execution_count": null,
   "id": "923c16e1",
   "metadata": {},
   "outputs": [],
   "source": [
    "s2.add(34)"
   ]
  },
  {
   "cell_type": "code",
   "execution_count": null,
   "id": "ab001c40",
   "metadata": {},
   "outputs": [],
   "source": [
    "s2"
   ]
  },
  {
   "cell_type": "code",
   "execution_count": null,
   "id": "7e5a4670",
   "metadata": {},
   "outputs": [],
   "source": [
    "s2.add(34)"
   ]
  },
  {
   "cell_type": "markdown",
   "id": "213f65b3",
   "metadata": {},
   "source": [
    "## "
   ]
  },
  {
   "cell_type": "code",
   "execution_count": null,
   "id": "4636fdbc",
   "metadata": {},
   "outputs": [],
   "source": [
    "s2"
   ]
  },
  {
   "cell_type": "code",
   "execution_count": null,
   "id": "de994e1c",
   "metadata": {},
   "outputs": [],
   "source": [
    "s={(1,2,3,4,4,6,5),3,4,5}"
   ]
  },
  {
   "cell_type": "code",
   "execution_count": null,
   "id": "19d5ede2",
   "metadata": {},
   "outputs": [],
   "source": []
  },
  {
   "cell_type": "code",
   "execution_count": null,
   "id": "f3066619",
   "metadata": {},
   "outputs": [],
   "source": [
    "s"
   ]
  },
  {
   "cell_type": "code",
   "execution_count": null,
   "id": "057fa847",
   "metadata": {},
   "outputs": [],
   "source": [
    "s1={[1,2,3],'likith',23}"
   ]
  },
  {
   "cell_type": "code",
   "execution_count": null,
   "id": "481bbce1",
   "metadata": {},
   "outputs": [],
   "source": [
    "s"
   ]
  },
  {
   "cell_type": "code",
   "execution_count": null,
   "id": "55760fd0",
   "metadata": {},
   "outputs": [],
   "source": [
    "s.remove(3)"
   ]
  },
  {
   "cell_type": "code",
   "execution_count": null,
   "id": "c0cd0915",
   "metadata": {},
   "outputs": [],
   "source": [
    "s"
   ]
  },
  {
   "cell_type": "code",
   "execution_count": 13,
   "id": "a48f9b4e",
   "metadata": {},
   "outputs": [
    {
     "ename": "NameError",
     "evalue": "name 's' is not defined",
     "output_type": "error",
     "traceback": [
      "\u001b[1;31m---------------------------------------------------------------------------\u001b[0m",
      "\u001b[1;31mNameError\u001b[0m                                 Traceback (most recent call last)",
      "Input \u001b[1;32mIn [13]\u001b[0m, in \u001b[0;36m<cell line: 1>\u001b[1;34m()\u001b[0m\n\u001b[1;32m----> 1\u001b[0m \u001b[43ms\u001b[49m\u001b[38;5;241m.\u001b[39mdiscard(\u001b[38;5;241m4\u001b[39m)\n",
      "\u001b[1;31mNameError\u001b[0m: name 's' is not defined"
     ]
    }
   ],
   "source": [
    "s.discard(4)"
   ]
  },
  {
   "cell_type": "code",
   "execution_count": 1,
   "id": "c9525ae2",
   "metadata": {},
   "outputs": [],
   "source": [
    "s={(1,2,3,4,4,6,5),3,4,5}"
   ]
  },
  {
   "cell_type": "code",
   "execution_count": 10,
   "id": "e3436fa6",
   "metadata": {},
   "outputs": [],
   "source": [
    "s.remove(5)"
   ]
  },
  {
   "cell_type": "code",
   "execution_count": 3,
   "id": "53ff551f",
   "metadata": {},
   "outputs": [
    {
     "data": {
      "text/plain": [
       "{(1, 2, 3, 4, 4, 6, 5), 4, 5}"
      ]
     },
     "execution_count": 3,
     "metadata": {},
     "output_type": "execute_result"
    }
   ],
   "source": [
    "s"
   ]
  },
  {
   "cell_type": "code",
   "execution_count": 7,
   "id": "b9c22be1",
   "metadata": {},
   "outputs": [],
   "source": [
    "s.discard(479)"
   ]
  },
  {
   "cell_type": "code",
   "execution_count": 8,
   "id": "fa7f849d",
   "metadata": {},
   "outputs": [
    {
     "data": {
      "text/plain": [
       "{(1, 2, 3, 4, 4, 6, 5), 5}"
      ]
     },
     "execution_count": 8,
     "metadata": {},
     "output_type": "execute_result"
    }
   ],
   "source": [
    "s"
   ]
  },
  {
   "cell_type": "code",
   "execution_count": 11,
   "id": "1e5ae6a3",
   "metadata": {},
   "outputs": [
    {
     "data": {
      "text/plain": [
       "{(1, 2, 3, 4, 4, 6, 5)}"
      ]
     },
     "execution_count": 11,
     "metadata": {},
     "output_type": "execute_result"
    }
   ],
   "source": [
    "s"
   ]
  },
  {
   "cell_type": "code",
   "execution_count": null,
   "id": "3b9d223c",
   "metadata": {},
   "outputs": [],
   "source": []
  },
  {
   "cell_type": "code",
   "execution_count": 12,
   "id": "6f80b235",
   "metadata": {},
   "outputs": [
    {
     "data": {
      "text/plain": [
       "{(1, 2, 3, 4, 4, 6, 5)}"
      ]
     },
     "execution_count": 12,
     "metadata": {},
     "output_type": "execute_result"
    }
   ],
   "source": [
    "s"
   ]
  },
  {
   "cell_type": "code",
   "execution_count": 13,
   "id": "59b76947",
   "metadata": {},
   "outputs": [],
   "source": [
    "s={(1,2,3,4,4,6,5),3,4,5}"
   ]
  },
  {
   "cell_type": "code",
   "execution_count": 14,
   "id": "f4921686",
   "metadata": {},
   "outputs": [
    {
     "data": {
      "text/plain": [
       "{(1, 2, 3, 4, 4, 6, 5), 3, 4, 5}"
      ]
     },
     "execution_count": 14,
     "metadata": {},
     "output_type": "execute_result"
    }
   ],
   "source": [
    "s"
   ]
  },
  {
   "cell_type": "code",
   "execution_count": 15,
   "id": "332cca9e",
   "metadata": {},
   "outputs": [
    {
     "data": {
      "text/plain": [
       "str"
      ]
     },
     "execution_count": 15,
     "metadata": {},
     "output_type": "execute_result"
    }
   ],
   "source": [
    "list\n",
    "tuple\n",
    "dict\n",
    "set\n",
    "str"
   ]
  },
  {
   "cell_type": "code",
   "execution_count": 16,
   "id": "b86afa0a",
   "metadata": {},
   "outputs": [],
   "source": [
    "l=list(s)"
   ]
  },
  {
   "cell_type": "code",
   "execution_count": null,
   "id": "92a87fe9",
   "metadata": {},
   "outputs": [],
   "source": []
  },
  {
   "cell_type": "code",
   "execution_count": null,
   "id": "9687eec9",
   "metadata": {},
   "outputs": [],
   "source": [
    "###task1"
   ]
  },
  {
   "cell_type": "code",
   "execution_count": 19,
   "id": "4a3f1989",
   "metadata": {},
   "outputs": [],
   "source": [
    "l=[3,4,5,6,7 , [23,456,67,8,78,78] , [345,56,87,8,98,9] , (234,6657,6) , {\"key1\" :\"sudh\" , 234:[23,45,656]}]"
   ]
  },
  {
   "cell_type": "code",
   "execution_count": 20,
   "id": "a99aa026",
   "metadata": {},
   "outputs": [],
   "source": [
    "l.reverse()"
   ]
  },
  {
   "cell_type": "code",
   "execution_count": 58,
   "id": "cc1c5219",
   "metadata": {},
   "outputs": [],
   "source": [
    "##1\n",
    "l.reverse()"
   ]
  },
  {
   "cell_type": "code",
   "execution_count": 23,
   "id": "8a40a507",
   "metadata": {},
   "outputs": [
    {
     "data": {
      "text/plain": [
       "[3,\n",
       " 4,\n",
       " 5,\n",
       " 6,\n",
       " 7,\n",
       " [23, 456, 67, 8, 78, 78],\n",
       " [345, 56, 87, 8, 98, 9],\n",
       " (234, 6657, 6),\n",
       " {'key1': 'sudh', 234: [23, 45, 656]}]"
      ]
     },
     "execution_count": 23,
     "metadata": {},
     "output_type": "execute_result"
    }
   ],
   "source": [
    "l"
   ]
  },
  {
   "cell_type": "code",
   "execution_count": 31,
   "id": "cae60a41",
   "metadata": {},
   "outputs": [
    {
     "data": {
      "text/plain": [
       "[23, 45, 656]"
      ]
     },
     "execution_count": 31,
     "metadata": {},
     "output_type": "execute_result"
    }
   ],
   "source": [
    "##2\n",
    "l[8][234]"
   ]
  },
  {
   "cell_type": "code",
   "execution_count": 33,
   "id": "651811ef",
   "metadata": {},
   "outputs": [
    {
     "data": {
      "text/plain": [
       "456"
      ]
     },
     "execution_count": 33,
     "metadata": {},
     "output_type": "execute_result"
    }
   ],
   "source": [
    "##3\n",
    "l[5][1]"
   ]
  },
  {
   "cell_type": "code",
   "execution_count": 43,
   "id": "ceab83a1",
   "metadata": {},
   "outputs": [],
   "source": [
    "##4\n",
    "list1=l[5],l[6],l[8][234]"
   ]
  },
  {
   "cell_type": "code",
   "execution_count": 44,
   "id": "d469bcf9",
   "metadata": {},
   "outputs": [
    {
     "data": {
      "text/plain": [
       "([23, 456, 67, 8, 78, 78], [345, 56, 87, 8, 98, 9], [23, 45, 656])"
      ]
     },
     "execution_count": 44,
     "metadata": {},
     "output_type": "execute_result"
    }
   ],
   "source": [
    "list1\n"
   ]
  },
  {
   "cell_type": "code",
   "execution_count": 46,
   "id": "ca456617",
   "metadata": {},
   "outputs": [
    {
     "data": {
      "text/plain": [
       "'sudh'"
      ]
     },
     "execution_count": 46,
     "metadata": {},
     "output_type": "execute_result"
    }
   ],
   "source": [
    "##5\n",
    "l[8]['key1']"
   ]
  },
  {
   "cell_type": "code",
   "execution_count": 54,
   "id": "4ec1951e",
   "metadata": {},
   "outputs": [],
   "source": [
    "##6\n",
    "d=(l[8])"
   ]
  },
  {
   "cell_type": "code",
   "execution_count": 52,
   "id": "a02721af",
   "metadata": {},
   "outputs": [
    {
     "data": {
      "text/plain": [
       "{'key1': 'sudh', 234: [23, 45, 656]}"
      ]
     },
     "execution_count": 52,
     "metadata": {},
     "output_type": "execute_result"
    }
   ],
   "source": [
    "d"
   ]
  },
  {
   "cell_type": "code",
   "execution_count": 59,
   "id": "e34bd245",
   "metadata": {},
   "outputs": [
    {
     "data": {
      "text/plain": [
       "dict_keys(['key1', 234])"
      ]
     },
     "execution_count": 59,
     "metadata": {},
     "output_type": "execute_result"
    }
   ],
   "source": [
    "d.keys()"
   ]
  },
  {
   "cell_type": "code",
   "execution_count": 60,
   "id": "18eedd79",
   "metadata": {},
   "outputs": [
    {
     "data": {
      "text/plain": [
       "dict_values(['sudh', [23, 45, 656]])"
      ]
     },
     "execution_count": 60,
     "metadata": {},
     "output_type": "execute_result"
    }
   ],
   "source": [
    "##7\n",
    "d.values()"
   ]
  },
  {
   "cell_type": "code",
   "execution_count": null,
   "id": "ef6a39e6",
   "metadata": {},
   "outputs": [],
   "source": []
  }
 ],
 "metadata": {
  "kernelspec": {
   "display_name": "Python 3 (ipykernel)",
   "language": "python",
   "name": "python3"
  },
  "language_info": {
   "codemirror_mode": {
    "name": "ipython",
    "version": 3
   },
   "file_extension": ".py",
   "mimetype": "text/x-python",
   "name": "python",
   "nbconvert_exporter": "python",
   "pygments_lexer": "ipython3",
   "version": "3.9.12"
  }
 },
 "nbformat": 4,
 "nbformat_minor": 5
}
